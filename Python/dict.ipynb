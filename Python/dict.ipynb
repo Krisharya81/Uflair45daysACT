{
 "cells": [
  {
   "cell_type": "markdown",
   "id": "bf2d48fb",
   "metadata": {},
   "source": [
    "Dictonary\n"
   ]
  },
  {
   "cell_type": "code",
   "execution_count": 17,
   "id": "ac6045f2",
   "metadata": {},
   "outputs": [],
   "source": [
    "#Dict -- key value pair\n",
    "#dict = {}\n",
    "#Dict -- duplicate keys not allowed,"
   ]
  },
  {
   "cell_type": "code",
   "execution_count": 18,
   "id": "44daf277",
   "metadata": {},
   "outputs": [
    {
     "name": "stdout",
     "output_type": "stream",
     "text": [
      "{'name': ['krish', 'krishna'], 'age': {'age1': 20, 'age2': 21}, 'hobby': 'coding'}\n",
      "<class 'dict'>\n"
     ]
    }
   ],
   "source": [
    "dt = {\n",
    "    \"name\":[\"krish\", \"krishna\"],\n",
    "    \"age\": 20,\n",
    "    \"hobby\" : \"coding\",\n",
    "    \"age\" : {\"age1\": 20, \"age2\": 21}\n",
    "}\n",
    "\n",
    "print(dt)\n",
    "print(type(dt))"
   ]
  },
  {
   "cell_type": "code",
   "execution_count": 19,
   "id": "b33a3bca",
   "metadata": {},
   "outputs": [
    {
     "data": {
      "text/plain": [
       "'coding'"
      ]
     },
     "execution_count": 19,
     "metadata": {},
     "output_type": "execute_result"
    }
   ],
   "source": [
    "dt[\"hobby\"]"
   ]
  },
  {
   "cell_type": "code",
   "execution_count": 20,
   "id": "c49d2822",
   "metadata": {},
   "outputs": [
    {
     "data": {
      "text/plain": [
       "{'name': ['krish', 'krishna'],\n",
       " 'age': {'age1': 20, 'age2': 21},\n",
       " 'hobby': 'reading'}"
      ]
     },
     "execution_count": 20,
     "metadata": {},
     "output_type": "execute_result"
    }
   ],
   "source": [
    "dt[\"hobby\"] = \"reading\"\n",
    "dt"
   ]
  },
  {
   "cell_type": "code",
   "execution_count": 21,
   "id": "4dc33a80",
   "metadata": {},
   "outputs": [],
   "source": [
    "dt = {\n",
    "    \"name\":[\"krish\", \"krishna\"],\n",
    "    \"age\": 20,\n",
    "    \"hobby\" : \"coding\",\n",
    "    \"age\" : {\"age1\": 20, \"age2\": 21}\n",
    "}\n",
    "#dt.get(\"name\")\n",
    "#dt.items()  # returns a list of tuples containing key-value pairs"
   ]
  },
  {
   "cell_type": "code",
   "execution_count": 22,
   "id": "618ff67c",
   "metadata": {},
   "outputs": [
    {
     "data": {
      "text/plain": [
       "dict_keys(['name', 'age', 'hobby'])"
      ]
     },
     "execution_count": 22,
     "metadata": {},
     "output_type": "execute_result"
    }
   ],
   "source": [
    "dt.keys()  # returns a list of keys in the dictionary"
   ]
  },
  {
   "cell_type": "code",
   "execution_count": 23,
   "id": "fba5bb9d",
   "metadata": {},
   "outputs": [
    {
     "data": {
      "text/plain": [
       "dict_values([['krish', 'krishna'], {'age1': 20, 'age2': 21}, 'coding'])"
      ]
     },
     "execution_count": 23,
     "metadata": {},
     "output_type": "execute_result"
    }
   ],
   "source": [
    "dt.values()  # returns a list of values in the dictionary"
   ]
  },
  {
   "cell_type": "code",
   "execution_count": 24,
   "id": "fb9a2c0a",
   "metadata": {},
   "outputs": [
    {
     "data": {
      "text/plain": [
       "{'age1': 20, 'age2': 21}"
      ]
     },
     "execution_count": 24,
     "metadata": {},
     "output_type": "execute_result"
    }
   ],
   "source": [
    "dt.pop(\"age\")  # removes the key \"hobby\" and returns its value    "
   ]
  },
  {
   "cell_type": "code",
   "execution_count": null,
   "id": "adc4ec9e",
   "metadata": {},
   "outputs": [
    {
     "data": {
      "text/plain": [
       "('hobby', 'coding')"
      ]
     },
     "execution_count": 25,
     "metadata": {},
     "output_type": "execute_result"
    }
   ],
   "source": [
    "dt.popitem() # removes the last inserted key-value pair and returns it"
   ]
  },
  {
   "cell_type": "code",
   "execution_count": 28,
   "id": "02311475",
   "metadata": {},
   "outputs": [
    {
     "data": {
      "text/plain": [
       "{'name': ['krish', 'krishna'], 'hobby': 'reading', 'class': '10th'}"
      ]
     },
     "execution_count": 28,
     "metadata": {},
     "output_type": "execute_result"
    }
   ],
   "source": [
    "dt.update({\"hobby\": \"reading\",\"class\": \"10th\"})  # updates the dictionary with new key-value pairs\n",
    "dt  # updates the value of \"hobby\" to \"reading\""
   ]
  },
  {
   "cell_type": "code",
   "execution_count": 29,
   "id": "5f48bcbb",
   "metadata": {},
   "outputs": [
    {
     "name": "stdout",
     "output_type": "stream",
     "text": [
      "{'a': 1, 'b': 2}\n"
     ]
    }
   ],
   "source": [
    "dt = {\"a\":1}\n",
    "value = dt.setdefault(\"b\", 2)  # sets the default value for key \"b\" to 2 if it doesn't exist\n",
    "print(dt) "
   ]
  },
  {
   "cell_type": "code",
   "execution_count": 30,
   "id": "deb82b5a",
   "metadata": {},
   "outputs": [
    {
     "name": "stdout",
     "output_type": "stream",
     "text": [
      "{'a': 1, 'b': 3}\n"
     ]
    }
   ],
   "source": [
    "dt = {\"a\":1,\"b\":3}\n",
    "value = dt.setdefault(\"b\", 2)  # sets the default value for key \"b\" to 2 if it doesn't exist\n",
    "print(dt) "
   ]
  },
  {
   "cell_type": "code",
   "execution_count": 33,
   "id": "85d05497",
   "metadata": {},
   "outputs": [
    {
     "data": {
      "text/plain": [
       "{'a': 10, 'b': 10, 'c': 10}"
      ]
     },
     "execution_count": 33,
     "metadata": {},
     "output_type": "execute_result"
    }
   ],
   "source": [
    "#fromkeys\n",
    "dt = {}.fromkeys(\"abc\",10)  # creates a dictionary with keys \"a\", \"b\", \"c\" and sets their values to 10\n",
    "dt"
   ]
  },
  {
   "cell_type": "code",
   "execution_count": null,
   "id": "61544560",
   "metadata": {},
   "outputs": [],
   "source": []
  }
 ],
 "metadata": {
  "kernelspec": {
   "display_name": "Python 3",
   "language": "python",
   "name": "python3"
  },
  "language_info": {
   "codemirror_mode": {
    "name": "ipython",
    "version": 3
   },
   "file_extension": ".py",
   "mimetype": "text/x-python",
   "name": "python",
   "nbconvert_exporter": "python",
   "pygments_lexer": "ipython3",
   "version": "3.12.5"
  }
 },
 "nbformat": 4,
 "nbformat_minor": 5
}
