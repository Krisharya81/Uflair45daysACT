{
 "cells": [
  {
   "cell_type": "markdown",
   "id": "91f9b75c",
   "metadata": {},
   "source": [
    "# OOPs"
   ]
  },
  {
   "cell_type": "code",
   "execution_count": null,
   "id": "a6364688",
   "metadata": {},
   "outputs": [],
   "source": [
    "#Class, Object, Method, Attribute, Inheritance, Polymorphism, Encapsulation,abstraction\n",
    "#Types of oops \n",
    "#inheritance --- single, multiple, multilevel, hierarchical, hybrid, polymorphism, encapsulation\n"
   ]
  },
  {
   "cell_type": "code",
   "execution_count": null,
   "id": "b5080e15",
   "metadata": {},
   "outputs": [],
   "source": [
    "#class --- blueprint of an object\n",
    "#object --- instance of a class\n",
    "#method --- behaviour of an object\n",
    "#attribute --- property of an object"
   ]
  },
  {
   "cell_type": "code",
   "execution_count": 1,
   "id": "f889dd86",
   "metadata": {},
   "outputs": [
    {
     "data": {
      "text/plain": [
       "(10, 20)"
      ]
     },
     "execution_count": 1,
     "metadata": {},
     "output_type": "execute_result"
    }
   ],
   "source": [
    "class Car:\n",
    "    num1 = 10 #class variable\n",
    "    num2 = 20 #class variable\n",
    "    name = \"BMW\" #class variable\n",
    "    model = \"X5\" #class variable\n",
    "    def add(self):                   #Self --- reference to the current instance of the class\n",
    "        return self.num1 , self.num2\n",
    "    \n",
    "    def display(self):\n",
    "        return self.name , self.model\n",
    "    \n",
    "\n",
    "#Object creation\n",
    "obj = Car() #object creation\n",
    "obj.add() #calling method\n",
    "\n",
    "    "
   ]
  },
  {
   "cell_type": "code",
   "execution_count": 4,
   "id": "15df459f",
   "metadata": {},
   "outputs": [
    {
     "data": {
      "text/plain": [
       "('King Kong', 5)"
      ]
     },
     "execution_count": 4,
     "metadata": {},
     "output_type": "execute_result"
    }
   ],
   "source": [
    "#init --- constructor---- initalize  the variable\n",
    "class animal:\n",
    "    def __init__(self, name, age):  #constructor\n",
    "        self.name = name            #instance variable\n",
    "        self.age = age              #instance variable\n",
    "    \n",
    "    def display(self):\n",
    "        return self.name, self.age\n",
    "#Object creation\n",
    "obj1 = animal(\"King Kong\", 5)  #object creation\n",
    "obj1.display()  #calling method\n",
    "        "
   ]
  },
  {
   "cell_type": "markdown",
   "id": "d96e2abf",
   "metadata": {},
   "source": [
    "# Inheritance\n"
   ]
  },
  {
   "cell_type": "code",
   "execution_count": null,
   "id": "c321d714",
   "metadata": {},
   "outputs": [],
   "source": [
    "#Inheritance --- process of acquiring properties and behaviour of one class to another class\n",
    "#Inheritance --- single, multiple, multilevel, hierarchical, hybrid\n"
   ]
  },
  {
   "cell_type": "code",
   "execution_count": 3,
   "id": "f1c73ead",
   "metadata": {},
   "outputs": [
    {
     "name": "stdout",
     "output_type": "stream",
     "text": [
      "car\n",
      "bike\n"
     ]
    }
   ],
   "source": [
    "class car:\n",
    "    def display(self):\n",
    "        return \"car\"\n",
    "    \n",
    "class bike(car):  #bike class inherits from car class\n",
    "    def show(self):\n",
    "        return \"bike\" \n",
    "\n",
    "obj = bike()  #object creation\n",
    "print(obj.display())  #calling method from parent class\n",
    "print(obj.show())  #calling method from child class       "
   ]
  },
  {
   "cell_type": "code",
   "execution_count": 4,
   "id": "66a30b14",
   "metadata": {},
   "outputs": [
    {
     "name": "stdout",
     "output_type": "stream",
     "text": [
      "Krish\n",
      "100000\n"
     ]
    }
   ],
   "source": [
    "class person:\n",
    "    def __init__(self, name):\n",
    "        self.name = name\n",
    "\n",
    "class employee(person):  #employee class inherits from person class\n",
    "    def __init__(self, name, salary):\n",
    "        self.salary =salary\n",
    "        super().__init__(name) #super() is used to call the constructor of the parent class\n",
    "        \n",
    "obj = employee(\"Krish\",100000)  #object creation\n",
    "print(obj.name)  #accessing attribute from parent class\n",
    "print(obj.salary)  #accessing attribute from child class        \n",
    "     "
   ]
  },
  {
   "cell_type": "code",
   "execution_count": 8,
   "id": "546843b0",
   "metadata": {},
   "outputs": [
    {
     "name": "stdout",
     "output_type": "stream",
     "text": [
      "Krish\n",
      "100000\n"
     ]
    }
   ],
   "source": [
    "class person:\n",
    "    def __init__(self, name):\n",
    "        self.name = name\n",
    "\n",
    "    def show(self):\n",
    "        return self.name    \n",
    "\n",
    "class employee(person):  #employee class inherits from person class\n",
    "    def __init__(self, name, salary):\n",
    "        self.salary =salary\n",
    "        super().__init__(name) #super() is used to call the constructor of the parent class\n",
    "    \n",
    "obj = employee(\"Krish\",100000)  #object creation\n",
    "print(obj.show())  #calling method from parent class\n",
    "print(obj.salary)"
   ]
  },
  {
   "cell_type": "markdown",
   "id": "c6a2eb6a",
   "metadata": {},
   "source": [
    "### Multi Level Inheritance"
   ]
  },
  {
   "cell_type": "code",
   "execution_count": 11,
   "id": "d7cab099",
   "metadata": {},
   "outputs": [
    {
     "name": "stdout",
     "output_type": "stream",
     "text": [
      "Krish\n",
      "100000\n"
     ]
    }
   ],
   "source": [
    "class person:\n",
    "    def __init__(self, name):\n",
    "        self.name = name\n",
    "\n",
    "    def show(self):\n",
    "        return self.name\n",
    "    \n",
    "class employee(person):  #employee class inherits from person class\n",
    "    def __init__(self, name, salary):\n",
    "        super().__init__(name) \n",
    "        self.salary =salary\n",
    "\n",
    "class job:\n",
    "    def __init__(self, salary):\n",
    "        self.salary = salary\n",
    "\n",
    "class Employeepersonjon(employee, job):\n",
    "    def __init__(self, name, salary):\n",
    "        employee.__init__(self, name, salary)\n",
    "        job.__init__(self, salary)\n",
    "\n",
    "obj = Employeepersonjon(\"Krish\", 100000)  #object creation\n",
    "print(obj.show())  #calling method from parent class\n",
    "print(obj.salary)\n",
    "       \n",
    "     "
   ]
  },
  {
   "cell_type": "code",
   "execution_count": 17,
   "id": "f1f2a37a",
   "metadata": {},
   "outputs": [
    {
     "name": "stdout",
     "output_type": "stream",
     "text": [
      "Krish\n",
      "100000\n",
      "krish@gmail\n"
     ]
    }
   ],
   "source": [
    "class person:\n",
    "    def __init__(self, name):\n",
    "        self.name = name\n",
    "\n",
    "    def show(self):\n",
    "        return self.name\n",
    "    \n",
    "class employee(person):  #employee class inherits from person class\n",
    "    def __init__(self, name, salary):\n",
    "        super().__init__(name) \n",
    "        self.salary =salary\n",
    "\n",
    "class job:\n",
    "    def __init__(self, salary):\n",
    "        self.salary = salary\n",
    "\n",
    "class Employeepersonjon(employee, job, Email):\n",
    "    def __init__(self, name, salary, email):\n",
    "        employee.__init__(self, name, salary)\n",
    "        job.__init__(self, salary)\n",
    "        Email.__init__(self, email)\n",
    "class Email:\n",
    "    def __init__(self, email):\n",
    "        self.email = email   \n",
    "\n",
    "\n",
    "obj = Employeepersonjon(\"Krish\", 100000,\"krish@gmail\")  #object creation\n",
    "print(obj.show())  #calling method from parent class\n",
    "print(obj.salary)\n",
    "print(obj.email)  #accessing attribute from Email class"
   ]
  },
  {
   "cell_type": "code",
   "execution_count": null,
   "id": "b470a164",
   "metadata": {},
   "outputs": [],
   "source": [
    "#MultiLevel ---> A ---> B ---> C"
   ]
  },
  {
   "cell_type": "code",
   "execution_count": null,
   "id": "68199b3e",
   "metadata": {},
   "outputs": [],
   "source": [
    "#Polymorphism --- many forms --- the same function or method behave differently based \n",
    "# on the input\n",
    "\n",
    "\n"
   ]
  },
  {
   "cell_type": "code",
   "execution_count": null,
   "id": "9475c2f1",
   "metadata": {},
   "outputs": [
    {
     "name": "stdout",
     "output_type": "stream",
     "text": [
      "Meow\n",
      "Bark\n"
     ]
    }
   ],
   "source": [
    "class Cat:\n",
    "    def sound(self):\n",
    "        return \"Meow\"\n",
    "\n",
    "class Dog:\n",
    "    def sound(self):\n",
    "        return \"Bark\"\n",
    "    \n",
    "def animal_sound(animal):\n",
    "    return animal.sound()    \n",
    "\n",
    "obj1 = Cat()\n",
    "obj2 = Dog()\n",
    "\n",
    "print(animal_sound(obj1))  # Output: Meow\n",
    "print(animal_sound(obj2))   "
   ]
  },
  {
   "cell_type": "code",
   "execution_count": 48,
   "id": "74db3dff",
   "metadata": {},
   "outputs": [
    {
     "name": "stdout",
     "output_type": "stream",
     "text": [
      "50\n"
     ]
    }
   ],
   "source": [
    "class shape_area:\n",
    "    def area(self):\n",
    "        pass  # This method will be overridden in subclasses\n",
    "\n",
    "\n",
    "\n",
    "class Rectangle(shape_area):\n",
    "\n",
    "    def __init__(self,l, b):\n",
    "        self.l = l\n",
    "        self.b = b\n",
    "    def area(self):\n",
    "        return self.l * self.b \n",
    "    \n",
    "class Square(shape_area):\n",
    "    def __init__(self,l):\n",
    "        self.l = l\n",
    "    def area(self):\n",
    "        return 4 * self.l \n",
    "    \n",
    "class Circle(shape_area):\n",
    "    def __init__(self,r):\n",
    "        self.r = r\n",
    "    def area(self):\n",
    "        return 3.14 * self.r *self. r \n",
    "\n",
    "def shape_area(shape):\n",
    "    return shape.area()     \n",
    "\n",
    "c1 = Rectangle(5,10)\n",
    "c2 = Square(5) \n",
    "c3 = Circle(5)\n",
    "\n",
    "print(shape_area(c1))  # Output: area of rectangle"
   ]
  },
  {
   "cell_type": "markdown",
   "id": "94b40261",
   "metadata": {},
   "source": [
    "# Encapulation"
   ]
  },
  {
   "cell_type": "code",
   "execution_count": null,
   "id": "0d8150af",
   "metadata": {},
   "outputs": [],
   "source": [
    "#encapulation\n",
    "#it means hiding the internal details of a class and\n",
    "#protecting data from being access or modified directly from outside the world.\n",
    "#we cna do it by using private and protected variable\n",
    "#private variable -- __name\n",
    "#cannot be accessible outside the class\n",
    "\n",
    "#protected variable -- __name\n",
    "# it can be accessible inside the lass and its subclasses\n"
   ]
  },
  {
   "cell_type": "code",
   "execution_count": null,
   "id": "563898f3",
   "metadata": {},
   "outputs": [
    {
     "data": {
      "text/plain": [
       "50"
      ]
     },
     "execution_count": 51,
     "metadata": {},
     "output_type": "execute_result"
    }
   ],
   "source": [
    "class student:\n",
    "    def __init__(self,name,marks):\n",
    "        self.name = name \n",
    "        self.__marks = marks\n",
    "\n",
    "    def get_marks(self):\n",
    "        return self.__marks\n",
    "    \n",
    "    def set_marks(self,marks):\n",
    "        if 0<=marks<=100:\n",
    "            self.marks = marks\n",
    "\n",
    "        else:\n",
    "            print(\"Invalid marks\")    \n",
    "\n",
    "s = student(\"abc\",50)\n",
    "#name mangling\n",
    "s._student__marks   # name the name of the private variable \n",
    "# s.__marks it give error \n"
   ]
  },
  {
   "cell_type": "code",
   "execution_count": null,
   "id": "e2927592",
   "metadata": {},
   "outputs": [],
   "source": []
  }
 ],
 "metadata": {
  "kernelspec": {
   "display_name": "Python 3",
   "language": "python",
   "name": "python3"
  },
  "language_info": {
   "codemirror_mode": {
    "name": "ipython",
    "version": 3
   },
   "file_extension": ".py",
   "mimetype": "text/x-python",
   "name": "python",
   "nbconvert_exporter": "python",
   "pygments_lexer": "ipython3",
   "version": "3.12.5"
  }
 },
 "nbformat": 4,
 "nbformat_minor": 5
}
