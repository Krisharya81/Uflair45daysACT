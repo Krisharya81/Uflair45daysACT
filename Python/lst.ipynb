{
 "cells": [
  {
   "cell_type": "markdown",
   "id": "e26007cd",
   "metadata": {},
   "source": [
    "List"
   ]
  },
  {
   "cell_type": "code",
   "execution_count": 1,
   "id": "cfa7b890",
   "metadata": {},
   "outputs": [
    {
     "name": "stdout",
     "output_type": "stream",
     "text": [
      "hello world\n"
     ]
    }
   ],
   "source": [
    "print(\"hello world\")"
   ]
  },
  {
   "cell_type": "code",
   "execution_count": 2,
   "id": "565d5407",
   "metadata": {},
   "outputs": [],
   "source": [
    "##list --> ordered, mutable, allows duplicate elements,heterogeneous"
   ]
  },
  {
   "cell_type": "code",
   "execution_count": null,
   "id": "971ce679",
   "metadata": {},
   "outputs": [
    {
     "name": "stdout",
     "output_type": "stream",
     "text": [
      "[1, 2, 'hello', 3.4, True, 'hello']\n",
      "<class 'list'>\n"
     ]
    }
   ],
   "source": [
    "lst = [1,2,\"hello\",3.4,True,\"hello\"]\n",
    "print(lst)\n",
    "print(type(lst))\n"
   ]
  },
  {
   "cell_type": "code",
   "execution_count": 9,
   "id": "911836d4",
   "metadata": {},
   "outputs": [
    {
     "name": "stdout",
     "output_type": "stream",
     "text": [
      "orange\n",
      "['red', 'green']\n",
      "['yellow', 'orange']\n"
     ]
    }
   ],
   "source": [
    "lst = [\"red\", \"green\", \"blue\", \"yellow\", \"orange\"]\n",
    "print(lst[-1])\n",
    "print(lst[0:2])\n",
    "print(lst[-2:])"
   ]
  },
  {
   "cell_type": "code",
   "execution_count": 10,
   "id": "7b9657cd",
   "metadata": {},
   "outputs": [
    {
     "name": "stdout",
     "output_type": "stream",
     "text": [
      "['red', 2, 'blue', 'yellow', 'orange']\n"
     ]
    }
   ],
   "source": [
    "lst = [\"red\", \"green\", \"blue\", \"yellow\", \"orange\"]\n",
    "lst[1] = 2\n",
    "print(lst)"
   ]
  },
  {
   "cell_type": "code",
   "execution_count": 13,
   "id": "345cd440",
   "metadata": {},
   "outputs": [
    {
     "name": "stdout",
     "output_type": "stream",
     "text": [
      "[1, 2, 3, 4, 5, 6]\n"
     ]
    }
   ],
   "source": [
    "lst = [1,2,\"hello\",3.4,True,\"hello\"]\n",
    "lst[0:6] = [1,2,3,4,5,6]\n",
    "print(lst)"
   ]
  },
  {
   "cell_type": "code",
   "execution_count": 18,
   "id": "1647a867",
   "metadata": {},
   "outputs": [
    {
     "name": "stdout",
     "output_type": "stream",
     "text": [
      "[7, 7, 7, 'hello', 3.4, True, 'hello']\n"
     ]
    }
   ],
   "source": [
    "lst = [1,2,\"hello\",3.4,True,\"hello\"]\n",
    "lst[0:2] = [7,7,7]\n",
    "print(lst)"
   ]
  },
  {
   "cell_type": "code",
   "execution_count": 17,
   "id": "28948603",
   "metadata": {},
   "outputs": [
    {
     "name": "stdout",
     "output_type": "stream",
     "text": [
      "[10, 20, [30, 40, [50, 6000], 70], 80]\n"
     ]
    }
   ],
   "source": [
    "#update 60 to 6000\n",
    "lst = [10,20,[30,40,[50,60],70],80]\n",
    "lst[2][2][1] = 6000\n",
    "print(lst)"
   ]
  },
  {
   "cell_type": "code",
   "execution_count": 29,
   "id": "73709433",
   "metadata": {},
   "outputs": [
    {
     "name": "stdout",
     "output_type": "stream",
     "text": [
      "2\n",
      "2\n"
     ]
    },
    {
     "data": {
      "text/plain": [
       "['red', 'green', 'blue', 'yellow', 'orange', 'red']"
      ]
     },
     "execution_count": 29,
     "metadata": {},
     "output_type": "execute_result"
    }
   ],
   "source": [
    "lst = [\"red\", \"green\", \"blue\", \"yellow\", \"orange\",\"red\"]\n",
    "print(lst.count(\"red\"))\n",
    "print(lst.index(\"blue\"))\n",
    "lst2 =lst.copy()\n",
    "lst2"
   ]
  },
  {
   "cell_type": "code",
   "execution_count": null,
   "id": "12eb1e0f",
   "metadata": {},
   "outputs": [
    {
     "data": {
      "text/plain": [
       "[]"
      ]
     },
     "execution_count": 30,
     "metadata": {},
     "output_type": "execute_result"
    }
   ],
   "source": [
    "lst = [\"red\", \"green\", \"blue\", \"yellow\", \"orange\",\"red\"]\n",
    "lst.clear() #clear vs delete\n",
    "del lst #clear vs delete\n",
    "lst"
   ]
  },
  {
   "cell_type": "code",
   "execution_count": 32,
   "id": "6ea1975d",
   "metadata": {},
   "outputs": [
    {
     "data": {
      "text/plain": [
       "['red', 'green', 'pink', 'blue', 'yellow', 'orange', 'red']"
      ]
     },
     "execution_count": 32,
     "metadata": {},
     "output_type": "execute_result"
    }
   ],
   "source": [
    "lst = [\"red\", \"green\", \"blue\", \"yellow\", \"orange\",\"red\"]\n",
    "lst.insert(2,\"pink\")\n",
    "lst"
   ]
  },
  {
   "cell_type": "code",
   "execution_count": 33,
   "id": "ac6a1fd7",
   "metadata": {},
   "outputs": [
    {
     "data": {
      "text/plain": [
       "['red', 'green', 'blue', 'yellow', 'orange', 'red', 'pink']"
      ]
     },
     "execution_count": 33,
     "metadata": {},
     "output_type": "execute_result"
    }
   ],
   "source": [
    "lst = [\"red\", \"green\", \"blue\", \"yellow\", \"orange\",\"red\"]\n",
    "lst.append(\"pink\")\n",
    "lst"
   ]
  },
  {
   "cell_type": "code",
   "execution_count": 35,
   "id": "47042537",
   "metadata": {},
   "outputs": [
    {
     "data": {
      "text/plain": [
       "['red', 'green', 'blue', 'yellow', 'orange', 'red', 'pink', 'purple']"
      ]
     },
     "execution_count": 35,
     "metadata": {},
     "output_type": "execute_result"
    }
   ],
   "source": [
    "lst = [\"red\", \"green\", \"blue\", \"yellow\", \"orange\",\"red\"]\n",
    "lst.extend([\"pink\", \"purple\"])\n",
    "lst"
   ]
  },
  {
   "cell_type": "code",
   "execution_count": 37,
   "id": "dd0feab7",
   "metadata": {},
   "outputs": [
    {
     "data": {
      "text/plain": [
       "['green', 'blue', 'yellow', 'orange', 'red']"
      ]
     },
     "execution_count": 37,
     "metadata": {},
     "output_type": "execute_result"
    }
   ],
   "source": [
    "lst = [\"red\", \"green\", \"blue\", \"yellow\", \"orange\",\"red\"]\n",
    "lst.remove(\"red\") #removes first occurrence\n",
    "lst"
   ]
  },
  {
   "cell_type": "code",
   "execution_count": 39,
   "id": "3471a488",
   "metadata": {},
   "outputs": [
    {
     "data": {
      "text/plain": [
       "['red', 'green', 'blue', 'yellow', 'orange']"
      ]
     },
     "execution_count": 39,
     "metadata": {},
     "output_type": "execute_result"
    }
   ],
   "source": [
    "lst = [\"red\", \"green\", \"blue\", \"yellow\", \"orange\",\"red\"]\n",
    "lst.pop() #removes last element\n",
    "lst"
   ]
  },
  {
   "cell_type": "code",
   "execution_count": 40,
   "id": "0b2f9440",
   "metadata": {},
   "outputs": [
    {
     "data": {
      "text/plain": [
       "['red', 'green', 'yellow', 'orange', 'red']"
      ]
     },
     "execution_count": 40,
     "metadata": {},
     "output_type": "execute_result"
    }
   ],
   "source": [
    "lst = [\"red\", \"green\", \"blue\", \"yellow\", \"orange\",\"red\"]\n",
    "lst.pop(2) #removes element at index 2\n",
    "lst"
   ]
  },
  {
   "cell_type": "code",
   "execution_count": 41,
   "id": "596460a0",
   "metadata": {},
   "outputs": [
    {
     "data": {
      "text/plain": [
       "['red', 'orange', 'yellow', 'blue', 'green', 'red']"
      ]
     },
     "execution_count": 41,
     "metadata": {},
     "output_type": "execute_result"
    }
   ],
   "source": [
    "lst = [\"red\", \"green\", \"blue\", \"yellow\", \"orange\",\"red\"]\n",
    "lst.reverse() #reverses the list\n",
    "lst"
   ]
  },
  {
   "cell_type": "code",
   "execution_count": 44,
   "id": "fc14e2d2",
   "metadata": {},
   "outputs": [
    {
     "data": {
      "text/plain": [
       "['yellow', 'red', 'red', 'orange', 'green', 'blue']"
      ]
     },
     "execution_count": 44,
     "metadata": {},
     "output_type": "execute_result"
    }
   ],
   "source": [
    "lst = [\"red\", \"green\", \"blue\", \"yellow\", \"orange\",\"red\"]\n",
    "lst.sort(reverse=True) #sorts the list in descending order\n",
    "lst"
   ]
  },
  {
   "cell_type": "code",
   "execution_count": 56,
   "id": "13927e9b",
   "metadata": {},
   "outputs": [
    {
     "data": {
      "text/plain": [
       "['red', 'orange', 'yellow', 'blue', 'green', 'red']"
      ]
     },
     "execution_count": 56,
     "metadata": {},
     "output_type": "execute_result"
    }
   ],
   "source": [
    "lst = [\"red\", \"green\", \"blue\", \"yellow\", \"orange\",\"red\"]\n",
    "lst[::-1]\n",
    "\n"
   ]
  },
  {
   "cell_type": "code",
   "execution_count": null,
   "id": "04ccf676",
   "metadata": {},
   "outputs": [],
   "source": []
  },
  {
   "cell_type": "code",
   "execution_count": null,
   "id": "5b464131",
   "metadata": {},
   "outputs": [],
   "source": []
  }
 ],
 "metadata": {
  "kernelspec": {
   "display_name": "Python 3",
   "language": "python",
   "name": "python3"
  },
  "language_info": {
   "codemirror_mode": {
    "name": "ipython",
    "version": 3
   },
   "file_extension": ".py",
   "mimetype": "text/x-python",
   "name": "python",
   "nbconvert_exporter": "python",
   "pygments_lexer": "ipython3",
   "version": "3.12.5"
  }
 },
 "nbformat": 4,
 "nbformat_minor": 5
}
