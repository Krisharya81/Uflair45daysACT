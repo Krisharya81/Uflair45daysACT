{
 "cells": [
  {
   "cell_type": "markdown",
   "id": "211847d6",
   "metadata": {},
   "source": [
    "# Exceptional Handling"
   ]
  },
  {
   "cell_type": "code",
   "execution_count": null,
   "id": "d778ff6c",
   "metadata": {},
   "outputs": [],
   "source": [
    "#error handling\n",
    "# 4 type of block --> try, except, finally, else\n",
    "#try --> try block is used to test a block of code for errors\n",
    "#except --> except block is used to handle the error\n",
    "#finally --> finally block is used to execute a block of code regardless of the result\n",
    "#else --> else block is used to execute a block of code if no errors occur"
   ]
  },
  {
   "cell_type": "code",
   "execution_count": null,
   "id": "8ab31065",
   "metadata": {},
   "outputs": [
    {
     "name": "stdout",
     "output_type": "stream",
     "text": [
      "zero division error occurred\n",
      "finally block executed\n"
     ]
    }
   ],
   "source": [
    "#ZeroDivisionError\n",
    "try:\n",
    "    print(10/0)\n",
    "except:\n",
    "    print(\"zero division error occurred\")\n",
    "else:\n",
    "    print(\"else block executed\")\n",
    "finally:\n",
    "    print(\"finally block executed\")   \n"
   ]
  },
  {
   "cell_type": "code",
   "execution_count": null,
   "id": "bdb0b445",
   "metadata": {},
   "outputs": [
    {
     "name": "stdout",
     "output_type": "stream",
     "text": [
      "list index out of range\n",
      "finally block executed\n"
     ]
    }
   ],
   "source": [
    "try:\n",
    "    print(10/0)\n",
    "except Exception as e:\n",
    "    print(e)\n",
    "else:\n",
    "    print(\"else block executed\")\n",
    "finally:\n",
    "    print(\"finally block executed\")  "
   ]
  },
  {
   "cell_type": "code",
   "execution_count": 6,
   "id": "2fc8c888",
   "metadata": {},
   "outputs": [
    {
     "name": "stdout",
     "output_type": "stream",
     "text": [
      "3\n",
      "else block executed\n",
      "finally block executed\n"
     ]
    }
   ],
   "source": [
    "\n",
    "try:\n",
    "    a = [1, 2, 3]\n",
    "    print(a[2])  # IndexError\n",
    "except Exception as e:\n",
    "    print(e)\n",
    "else:\n",
    "    print(\"else block executed\")\n",
    "finally:\n",
    "    print(\"finally block executed\")  \n"
   ]
  },
  {
   "cell_type": "code",
   "execution_count": null,
   "id": "eeabdc09",
   "metadata": {},
   "outputs": [],
   "source": []
  }
 ],
 "metadata": {
  "kernelspec": {
   "display_name": "Python 3",
   "language": "python",
   "name": "python3"
  },
  "language_info": {
   "codemirror_mode": {
    "name": "ipython",
    "version": 3
   },
   "file_extension": ".py",
   "mimetype": "text/x-python",
   "name": "python",
   "nbconvert_exporter": "python",
   "pygments_lexer": "ipython3",
   "version": "3.12.5"
  }
 },
 "nbformat": 4,
 "nbformat_minor": 5
}
