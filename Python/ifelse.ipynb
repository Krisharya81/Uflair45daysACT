{
 "cells": [
  {
   "cell_type": "markdown",
   "id": "2d49096d",
   "metadata": {},
   "source": [
    "# Conditional Statement"
   ]
  },
  {
   "cell_type": "code",
   "execution_count": 6,
   "id": "b05a27e1",
   "metadata": {},
   "outputs": [
    {
     "name": "stdout",
     "output_type": "stream",
     "text": [
      "b is equal to a\n"
     ]
    }
   ],
   "source": [
    "a = 10\n",
    "b = 10\n",
    "if b<a:\n",
    "    print(\"b is greater than a\")\n",
    "elif b==a:\n",
    "    print(\"b is equal to a\")    \n",
    "else:\n",
    "    print(\"b is less than a\")    "
   ]
  },
  {
   "cell_type": "code",
   "execution_count": 10,
   "id": "7a41cc45",
   "metadata": {},
   "outputs": [
    {
     "name": "stdout",
     "output_type": "stream",
     "text": [
      "b is greater than a and a is less than c\n"
     ]
    }
   ],
   "source": [
    "a = 10\n",
    "b = 20\n",
    "c = 30\n",
    "if b>a and a<c:\n",
    "    print(\"b is greater than a and a is less than c\")\n",
    "else:\n",
    "    print(\"b is less than a\")  "
   ]
  },
  {
   "cell_type": "code",
   "execution_count": 12,
   "id": "6fbe8478",
   "metadata": {},
   "outputs": [
    {
     "name": "stdout",
     "output_type": "stream",
     "text": [
      "b is less than a\n"
     ]
    }
   ],
   "source": [
    "a = 10\n",
    "b = 20\n",
    "c = 30\n",
    "if not(b>a and a<c):\n",
    "    print(\"b is greater than a and a is less than c\")\n",
    "else:\n",
    "    print(\"b is less than a\")  "
   ]
  },
  {
   "cell_type": "code",
   "execution_count": 15,
   "id": "590b4266",
   "metadata": {},
   "outputs": [
    {
     "name": "stdout",
     "output_type": "stream",
     "text": [
      "a is positive and even\n"
     ]
    }
   ],
   "source": [
    "# Nested if-else \n",
    "a = 10\n",
    "if a>0:\n",
    "    if a%2==0:\n",
    "        print(\"a is positive and even\")\n",
    "    else:\n",
    "        print(\"a is positive and odd\")    \n",
    "else:\n",
    "    print(\"negative or zero\")  "
   ]
  },
  {
   "cell_type": "code",
   "execution_count": null,
   "id": "97902493",
   "metadata": {},
   "outputs": [],
   "source": [
    "a = int(input(\"Enter a number: \"))\n",
    "if a>0:\n",
    "    if a%2==0:\n",
    "        print(\"a is positive and even\")\n",
    "    else:\n",
    "        print(\"a is positive and odd\")    \n",
    "else:\n",
    "    print(\"negative or zero\")  "
   ]
  },
  {
   "cell_type": "code",
   "execution_count": null,
   "id": "06638467",
   "metadata": {},
   "outputs": [],
   "source": [
    "#Check if number is divisible by 5 and 7\n",
    "a =int(input())\n",
    "if a%5==0 and a%7==0:\n",
    "    print(\"a is divisible by 5 and 7\")\n",
    "else:\n",
    "    print(\"a is not divisible by 5 and 7\")"
   ]
  },
  {
   "cell_type": "code",
   "execution_count": null,
   "id": "4a754599",
   "metadata": {},
   "outputs": [],
   "source": [
    "# year is leap year or not\n",
    "a = int(input())\n",
    "if a%4==0 and a%100!=0 or a%400==0:\n",
    "    print(\"a is leap year\")\n",
    "else:\n",
    "    print(\"a is not leap year\")"
   ]
  }
 ],
 "metadata": {
  "kernelspec": {
   "display_name": "Python 3",
   "language": "python",
   "name": "python3"
  },
  "language_info": {
   "codemirror_mode": {
    "name": "ipython",
    "version": 3
   },
   "file_extension": ".py",
   "mimetype": "text/x-python",
   "name": "python",
   "nbconvert_exporter": "python",
   "pygments_lexer": "ipython3",
   "version": "3.12.5"
  }
 },
 "nbformat": 4,
 "nbformat_minor": 5
}
