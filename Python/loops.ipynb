{
 "cells": [
  {
   "cell_type": "code",
   "execution_count": null,
   "id": "180b8cc4",
   "metadata": {},
   "outputs": [],
   "source": [
    "# For and While Loops\n",
    "# For loop -- iterating over a sequence (like a list, tuple, dictionary, set, or string)\n"
   ]
  },
  {
   "cell_type": "code",
   "execution_count": 7,
   "id": "e59ed089",
   "metadata": {},
   "outputs": [
    {
     "name": "stdout",
     "output_type": "stream",
     "text": [
      "P y t h o n "
     ]
    }
   ],
   "source": [
    "#String\n",
    "for i in \"Python\":\n",
    "    print(i, end=\" \")"
   ]
  },
  {
   "cell_type": "code",
   "execution_count": 2,
   "id": "fca1aa19",
   "metadata": {},
   "outputs": [
    {
     "name": "stdout",
     "output_type": "stream",
     "text": [
      "red\n",
      "green\n",
      "blue\n",
      "yellow\n"
     ]
    }
   ],
   "source": [
    "#List\n",
    "lst  = [\"red\", \"green\", \"blue\", \"yellow\"]\n",
    "for i in lst :\n",
    "    print(i)"
   ]
  },
  {
   "cell_type": "code",
   "execution_count": 10,
   "id": "1977b268",
   "metadata": {},
   "outputs": [
    {
     "name": "stdout",
     "output_type": "stream",
     "text": [
      "name : Alice\n",
      "age : 30\n",
      "city : New York\n"
     ]
    }
   ],
   "source": [
    "#Dictionary\n",
    "dict = {\"name\": \"Alice\", \"age\": 30, \"city\": \"New York\"}\n",
    "for key in dict:\n",
    "    print(key, \":\", dict[key])"
   ]
  },
  {
   "cell_type": "code",
   "execution_count": 12,
   "id": "0fbc6067",
   "metadata": {},
   "outputs": [
    {
     "name": "stdout",
     "output_type": "stream",
     "text": [
      "name : Alice\n",
      "age : 30\n",
      "city : New York\n"
     ]
    }
   ],
   "source": [
    "dict = {\"name\": \"Alice\", \"age\": 30, \"city\": \"New York\"}\n",
    "for i in dict:\n",
    "    print(i, \":\", dict[i])"
   ]
  },
  {
   "cell_type": "code",
   "execution_count": 18,
   "id": "98ef40a9",
   "metadata": {},
   "outputs": [
    {
     "name": "stdout",
     "output_type": "stream",
     "text": [
      "1 red\n",
      "-----------------\n",
      "1 blue\n",
      "-----------------\n",
      "1 green\n",
      "-----------------\n",
      "2 red\n",
      "-----------------\n",
      "2 blue\n",
      "-----------------\n",
      "2 green\n",
      "-----------------\n",
      "3 red\n",
      "-----------------\n",
      "3 blue\n",
      "-----------------\n",
      "3 green\n",
      "-----------------\n"
     ]
    }
   ],
   "source": [
    "#nested loop\n",
    "lst1 = [1, 2, 3]\n",
    "lst2 = [\"red\", \"blue\", \"green\"]\n",
    "for i in lst1:\n",
    "    for j in lst2:\n",
    "        print(i, j)\n",
    "        print(\"-----------------\")"
   ]
  },
  {
   "cell_type": "code",
   "execution_count": null,
   "id": "4dd62ba6",
   "metadata": {},
   "outputs": [
    {
     "name": "stdout",
     "output_type": "stream",
     "text": [
      "1 2 3 4 "
     ]
    }
   ],
   "source": [
    "#Break and Continue\n",
    "for i in range(1,10):\n",
    "    if i == 5:\n",
    "        break  # Exit the loop when i is 5\n",
    "    print(i, end=\" \")\n",
    "    "
   ]
  },
  {
   "cell_type": "code",
   "execution_count": 20,
   "id": "9ec0a77d",
   "metadata": {},
   "outputs": [
    {
     "name": "stdout",
     "output_type": "stream",
     "text": [
      "1 2 3 4 6 7 8 9 "
     ]
    }
   ],
   "source": [
    "for i in range(1,10):\n",
    "    if i == 5:\n",
    "        continue  # Skip the iteration when i is 5\n",
    "    print(i, end=\" \")"
   ]
  },
  {
   "cell_type": "code",
   "execution_count": 22,
   "id": "5c6dc174",
   "metadata": {},
   "outputs": [],
   "source": [
    "#Pass\n",
    "for i in range(1,10):\n",
    "    if i == 5:\n",
    "        pass  # Do nothing when i is 5"
   ]
  },
  {
   "cell_type": "code",
   "execution_count": 23,
   "id": "0791c163",
   "metadata": {},
   "outputs": [
    {
     "name": "stdout",
     "output_type": "stream",
     "text": [
      "1 2 3 4 5 6 7 8 9 "
     ]
    }
   ],
   "source": [
    "for i in range(1,10):\n",
    "    if i == 5:\n",
    "        pass  # Do nothing when i is 5\n",
    "    print(i, end=\" \")"
   ]
  },
  {
   "cell_type": "code",
   "execution_count": 26,
   "id": "a61793cf",
   "metadata": {},
   "outputs": [
    {
     "name": "stdout",
     "output_type": "stream",
     "text": [
      "[1, 4, 9, 16, 25]\n"
     ]
    }
   ],
   "source": [
    "# you have to square the given list and print the result in a list\n",
    "lst = [1, 2, 3, 4, 5]\n",
    "lst2 = []     \n",
    "for i in lst:\n",
    "    lst2.append(i ** 2)  \n",
    "print(lst2)\n",
    "\n",
    "\n"
   ]
  },
  {
   "cell_type": "code",
   "execution_count": 34,
   "id": "b43d03d0",
   "metadata": {},
   "outputs": [
    {
     "name": "stdout",
     "output_type": "stream",
     "text": [
      "1 2 3 4 5 6 7 8 9 10 "
     ]
    }
   ],
   "source": [
    "#While loop\n",
    "# While loop -- executes as long as a condition is true\n",
    "i = 1\n",
    "while i <= 10:\n",
    "    print(i, end=\" \")\n",
    "    i += 1 # Increment i by 1"
   ]
  },
  {
   "cell_type": "code",
   "execution_count": 35,
   "id": "0cbcfde1",
   "metadata": {},
   "outputs": [
    {
     "name": "stdout",
     "output_type": "stream",
     "text": [
      "10 9 8 7 6 5 4 3 2 1 "
     ]
    }
   ],
   "source": [
    "#reverse\n",
    "i = 10\n",
    "while i >= 1:\n",
    "    print(i, end=\" \")\n",
    "    i -= 1 # Decrement i by 1\n"
   ]
  },
  {
   "cell_type": "code",
   "execution_count": 40,
   "id": "d6470df5",
   "metadata": {},
   "outputs": [
    {
     "name": "stdout",
     "output_type": "stream",
     "text": [
      "1\n",
      "2\n",
      "3\n",
      "4\n"
     ]
    }
   ],
   "source": [
    "i = 1\n",
    "while i <= 10:\n",
    "    if i == 5:\n",
    "        break  # Exit the loop when i is 5\n",
    "    print(i,)\n",
    "    i += 1"
   ]
  },
  {
   "cell_type": "code",
   "execution_count": 37,
   "id": "a440e4d5",
   "metadata": {},
   "outputs": [
    {
     "name": "stdout",
     "output_type": "stream",
     "text": [
      "10 "
     ]
    }
   ],
   "source": [
    "i = 10\n",
    "while i <= 10:\n",
    "    if i == 5:\n",
    "        continue  # Skip the iteration when i is 5\n",
    "    print(i, end=\" \")\n",
    "    i += 1"
   ]
  },
  {
   "cell_type": "code",
   "execution_count": 41,
   "id": "f762c6ca",
   "metadata": {},
   "outputs": [
    {
     "name": "stdout",
     "output_type": "stream",
     "text": [
      "55\n"
     ]
    }
   ],
   "source": [
    "# First the sum of number from 1 to 10 using while loop\n",
    "i = 1\n",
    "sum = 0\n",
    "while i <= 10:\n",
    "    sum += i\n",
    "    i += 1\n",
    "print(sum)\n"
   ]
  },
  {
   "cell_type": "code",
   "execution_count": null,
   "id": "6d373758",
   "metadata": {},
   "outputs": [],
   "source": []
  }
 ],
 "metadata": {
  "kernelspec": {
   "display_name": "Python 3",
   "language": "python",
   "name": "python3"
  },
  "language_info": {
   "codemirror_mode": {
    "name": "ipython",
    "version": 3
   },
   "file_extension": ".py",
   "mimetype": "text/x-python",
   "name": "python",
   "nbconvert_exporter": "python",
   "pygments_lexer": "ipython3",
   "version": "3.12.5"
  }
 },
 "nbformat": 4,
 "nbformat_minor": 5
}
