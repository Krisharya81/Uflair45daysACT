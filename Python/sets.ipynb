{
 "cells": [
  {
   "cell_type": "markdown",
   "id": "8cec1399",
   "metadata": {},
   "source": [
    "Sets"
   ]
  },
  {
   "cell_type": "code",
   "execution_count": 15,
   "id": "5402423b",
   "metadata": {},
   "outputs": [],
   "source": [
    "#sets --> unordered, unindexed, immutable, no duplicate elements\n",
    "#s = {}"
   ]
  },
  {
   "cell_type": "code",
   "execution_count": 16,
   "id": "5d24a816",
   "metadata": {},
   "outputs": [
    {
     "name": "stdout",
     "output_type": "stream",
     "text": [
      "{True, 2, 'hello'}\n",
      "<class 'set'>\n"
     ]
    }
   ],
   "source": [
    "st ={2,\"hello\",True,\"hello\"}\n",
    "print(st)\n",
    "print(type(st))"
   ]
  },
  {
   "cell_type": "code",
   "execution_count": 17,
   "id": "f0f62878",
   "metadata": {},
   "outputs": [
    {
     "name": "stdout",
     "output_type": "stream",
     "text": [
      "{True, 2, 'python', 'hello'}\n"
     ]
    }
   ],
   "source": [
    "st.add(\"python\")\n",
    "print(st)"
   ]
  },
  {
   "cell_type": "code",
   "execution_count": 18,
   "id": "341e3c5b",
   "metadata": {},
   "outputs": [
    {
     "name": "stdout",
     "output_type": "stream",
     "text": [
      "{True, 2, 3, 4, 5, 'python', 'hello'}\n"
     ]
    }
   ],
   "source": [
    "st.update([1,2,3,4,5])\n",
    "print(st)"
   ]
  },
  {
   "cell_type": "code",
   "execution_count": 19,
   "id": "9e83acb4",
   "metadata": {},
   "outputs": [
    {
     "name": "stdout",
     "output_type": "stream",
     "text": [
      "{True, 2, 3, 4, 5, 'python'}\n"
     ]
    }
   ],
   "source": [
    "st.remove(\"hello\")\n",
    "print(st)"
   ]
  },
  {
   "cell_type": "code",
   "execution_count": 20,
   "id": "0fe4a8ff",
   "metadata": {},
   "outputs": [
    {
     "name": "stdout",
     "output_type": "stream",
     "text": [
      "{2, 3, 4, 5, 'python'}\n"
     ]
    }
   ],
   "source": [
    "st.pop()\n",
    "print(st)"
   ]
  },
  {
   "cell_type": "code",
   "execution_count": 21,
   "id": "4ded66cc",
   "metadata": {},
   "outputs": [
    {
     "name": "stdout",
     "output_type": "stream",
     "text": [
      "{2, 3, 4, 5, 'python'}\n"
     ]
    }
   ],
   "source": [
    "st.discard(\"hello\")  # does not raise an error if the element is not found\n",
    "print(st)"
   ]
  },
  {
   "cell_type": "code",
   "execution_count": 22,
   "id": "8c5478aa",
   "metadata": {},
   "outputs": [
    {
     "name": "stdout",
     "output_type": "stream",
     "text": [
      "{1, 2, 3, 4, 5}\n"
     ]
    }
   ],
   "source": [
    "a = {1,2,3}\n",
    "b = {3,4,5}\n",
    "print(a.union(b))  # union of two sets"
   ]
  },
  {
   "cell_type": "code",
   "execution_count": 23,
   "id": "6b422b35",
   "metadata": {},
   "outputs": [
    {
     "name": "stdout",
     "output_type": "stream",
     "text": [
      "{3}\n"
     ]
    }
   ],
   "source": [
    "a = {1,2,3}\n",
    "b = {3,4,5}\n",
    "print(a.intersection(b))  # intersection of two sets"
   ]
  },
  {
   "cell_type": "code",
   "execution_count": 26,
   "id": "61b58326",
   "metadata": {},
   "outputs": [
    {
     "name": "stdout",
     "output_type": "stream",
     "text": [
      "{1, 2}\n",
      "{4, 5}\n",
      "{1, 2, 4, 5}\n"
     ]
    }
   ],
   "source": [
    "a = {1,2,3}\n",
    "b = {3,4,5}\n",
    "print(a.difference(b))\n",
    "print(b.difference(a))  # returns elements infirst set that are not in second set\n",
    "print(a.symmetric_difference(b))  # returns elements that are in either set but not both"
   ]
  },
  {
   "cell_type": "code",
   "execution_count": 30,
   "id": "7abfbd55",
   "metadata": {},
   "outputs": [
    {
     "name": "stdout",
     "output_type": "stream",
     "text": [
      "False\n",
      "False\n",
      "False\n",
      "False\n",
      "False\n",
      "False\n"
     ]
    }
   ],
   "source": [
    "a = {1,2,3}\n",
    "b = {3,4,5}\n",
    "\n",
    "#subset\n",
    "#check if all elements of one set are in another\n",
    "print(a.issubset(b))  # returns False\n",
    "print(b.issubset(a))  # returns false\n",
    "#superset\n",
    "#check if all elements of another set are in this set   \n",
    "print(a.issuperset(b))  # returns False\n",
    "print(b.issuperset(a))  # returns False\n",
    "#disjoint\n",
    "#check if two sets have no elements in common\n",
    "print(a.isdisjoint(b))  # returns False\n",
    "print(b.isdisjoint(a))  # returns True\n",
    "#"
   ]
  },
  {
   "cell_type": "code",
   "execution_count": 31,
   "id": "f61429b3",
   "metadata": {},
   "outputs": [
    {
     "name": "stdout",
     "output_type": "stream",
     "text": [
      "None\n",
      "{3}\n",
      "None\n",
      "{3}\n"
     ]
    }
   ],
   "source": [
    "a = {1,2,3}\n",
    "b = {3,4,5}\n",
    "print(a.intersection_update(b))  # returns elements that are in both sets\n",
    "print(a)  # modifies a to contain only elements that are in both sets\n",
    "print(b.intersection_update(a))  # modifies b to contain only elements that are in both sets    \n",
    "print(b)"
   ]
  },
  {
   "cell_type": "code",
   "execution_count": 32,
   "id": "84f9ca36",
   "metadata": {},
   "outputs": [
    {
     "name": "stdout",
     "output_type": "stream",
     "text": [
      "None\n",
      "{1, 2}\n",
      "None\n",
      "{3, 4, 5}\n"
     ]
    }
   ],
   "source": [
    "a = {1,2,3}\n",
    "b = {3,4,5}\n",
    "print(a.difference_update(b))  # modifies a to contain only elements that are not in b\n",
    "print(a)  # a now contains only elements that are not in b\n",
    "print(b.difference_update(a))  # modifies b to contain only elements that are not in a\n",
    "print(b)  # b now contains only elements that are not in a"
   ]
  },
  {
   "cell_type": "code",
   "execution_count": 34,
   "id": "dea70306",
   "metadata": {},
   "outputs": [
    {
     "name": "stdout",
     "output_type": "stream",
     "text": [
      "None\n",
      "{1, 2, 4, 5}\n"
     ]
    }
   ],
   "source": [
    "a = {1,2,3}\n",
    "b = {3,4,5}\n",
    "print(a.symmetric_difference_update(b))\n",
    "print(a)"
   ]
  },
  {
   "cell_type": "code",
   "execution_count": null,
   "id": "f4427cb4",
   "metadata": {},
   "outputs": [],
   "source": []
  }
 ],
 "metadata": {
  "kernelspec": {
   "display_name": "Python 3",
   "language": "python",
   "name": "python3"
  },
  "language_info": {
   "codemirror_mode": {
    "name": "ipython",
    "version": 3
   },
   "file_extension": ".py",
   "mimetype": "text/x-python",
   "name": "python",
   "nbconvert_exporter": "python",
   "pygments_lexer": "ipython3",
   "version": "3.12.5"
  }
 },
 "nbformat": 4,
 "nbformat_minor": 5
}
