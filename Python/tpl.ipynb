{
 "cells": [
  {
   "cell_type": "markdown",
   "id": "7f6f4bf4",
   "metadata": {},
   "source": [
    "Tuple"
   ]
  },
  {
   "cell_type": "code",
   "execution_count": null,
   "id": "e7084e31",
   "metadata": {},
   "outputs": [],
   "source": [
    "#tpl --> ordered, immutable, allows duplicates,heterogeneous,indexed,slicing\n",
    "#tpl =()"
   ]
  },
  {
   "cell_type": "code",
   "execution_count": 1,
   "id": "b58112f5",
   "metadata": {},
   "outputs": [
    {
     "name": "stdout",
     "output_type": "stream",
     "text": [
      "('red', 'green', 'blue', 'yellow', 'orange', 'red')\n",
      "<class 'tuple'>\n"
     ]
    }
   ],
   "source": [
    "tpl = (\"red\", \"green\", \"blue\", \"yellow\", \"orange\",\"red\")\n",
    "print(tpl)\n",
    "print(type(tpl))"
   ]
  },
  {
   "cell_type": "code",
   "execution_count": 5,
   "id": "7b3f37fd",
   "metadata": {},
   "outputs": [
    {
     "name": "stdout",
     "output_type": "stream",
     "text": [
      "2\n",
      "2\n",
      "['red', 'green', 'blue', 'yellow', 'orange', 'red']\n"
     ]
    }
   ],
   "source": [
    "tpl = (\"red\", \"green\", \"blue\", \"yellow\", \"orange\",\"red\")\n",
    "print(tpl.count(\"red\"))  # Count the occurrences of \"red\"\n",
    "print(tpl.index(\"blue\") ) # Find the index of \"blue\"\n",
    "lst = list(tpl)  # Convert tuple to list\n",
    "print(lst)\n"
   ]
  },
  {
   "cell_type": "code",
   "execution_count": null,
   "id": "4d527ac6",
   "metadata": {},
   "outputs": [],
   "source": [
    "\n"
   ]
  }
 ],
 "metadata": {
  "kernelspec": {
   "display_name": "Python 3",
   "language": "python",
   "name": "python3"
  },
  "language_info": {
   "codemirror_mode": {
    "name": "ipython",
    "version": 3
   },
   "file_extension": ".py",
   "mimetype": "text/x-python",
   "name": "python",
   "nbconvert_exporter": "python",
   "pygments_lexer": "ipython3",
   "version": "3.12.5"
  }
 },
 "nbformat": 4,
 "nbformat_minor": 5
}
