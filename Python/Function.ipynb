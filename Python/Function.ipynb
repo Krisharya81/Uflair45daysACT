{
 "cells": [
  {
   "cell_type": "code",
   "execution_count": null,
   "id": "91f458c6",
   "metadata": {},
   "outputs": [],
   "source": [
    "#Defination of function\n",
    "#Funtion is a block of code that only runs when it is called"
   ]
  },
  {
   "cell_type": "code",
   "execution_count": null,
   "id": "dd281fba",
   "metadata": {},
   "outputs": [
    {
     "name": "stdout",
     "output_type": "stream",
     "text": [
      "Hello, World!\n"
     ]
    }
   ],
   "source": [
    "#User defined function\n",
    "def hello():\n",
    "    #Block of code\n",
    "    print(\"Hello, World!\")\n",
    "#Calling the function    \n",
    "hello()"
   ]
  },
  {
   "cell_type": "code",
   "execution_count": 2,
   "id": "4afacb8f",
   "metadata": {},
   "outputs": [
    {
     "name": "stdout",
     "output_type": "stream",
     "text": [
      "30\n"
     ]
    }
   ],
   "source": [
    "def add():\n",
    "    a = 10\n",
    "    b = 20\n",
    "    c = a + b   \n",
    "    print(c)\n",
    "#Calling the function\n",
    "add() "
   ]
  },
  {
   "cell_type": "code",
   "execution_count": 3,
   "id": "4fdddb43",
   "metadata": {},
   "outputs": [
    {
     "name": "stdout",
     "output_type": "stream",
     "text": [
      "30\n"
     ]
    }
   ],
   "source": [
    "#Parameter and Argument\n",
    "def add(a, b):\n",
    "    print(a + b)\n",
    "#Calling the function with arguments\n",
    "add(10, 20)\n",
    "\n"
   ]
  },
  {
   "cell_type": "code",
   "execution_count": null,
   "id": "cd26766c",
   "metadata": {},
   "outputs": [
    {
     "name": "stdout",
     "output_type": "stream",
     "text": [
      "The youngest child is rohan\n"
     ]
    }
   ],
   "source": [
    "#arbitrary arguments ---*args---\n",
    "def child(*kids):\n",
    "    print(\"The youngest child is \" + kids[1])\n",
    "child(\"mohan\",\"rohan\",\"sohan\")    "
   ]
  },
  {
   "cell_type": "code",
   "execution_count": 6,
   "id": "608a90d3",
   "metadata": {},
   "outputs": [
    {
     "name": "stdout",
     "output_type": "stream",
     "text": [
      "The youngest child is rohan\n"
     ]
    }
   ],
   "source": [
    "#Keyword arguments\n",
    "def child(child1, child2, child3):\n",
    "    print(\"The youngest child is \" + child2)    \n",
    "\n",
    "child(child1 = \"mohan\", child2 = \"rohan\", child3 = \"sohan\")"
   ]
  },
  {
   "cell_type": "code",
   "execution_count": 7,
   "id": "9584b560",
   "metadata": {},
   "outputs": [
    {
     "name": "stdout",
     "output_type": "stream",
     "text": [
      "The youngest child is sohan\n"
     ]
    }
   ],
   "source": [
    "#arbitrary keyword arguments ---**kwargs---\n",
    "\n",
    "def child(**kids):\n",
    "    print(\"The youngest child is \" + kids[\"child2\"])\n",
    "\n",
    "child(child3=\"mohan\",child1=\"rohan\",child2=\"sohan\")"
   ]
  },
  {
   "cell_type": "code",
   "execution_count": 10,
   "id": "ed15b8bb",
   "metadata": {},
   "outputs": [
    {
     "name": "stdout",
     "output_type": "stream",
     "text": [
      "My hobby is cricket\n",
      "My hobby is cricket\n"
     ]
    }
   ],
   "source": [
    "#Default parameter value\n",
    "def hobby(hobby =\"cricket\"):\n",
    "    print(\"My hobby is \" + hobby)\n",
    "hobby(\"cricket\")    \n",
    "hobby()"
   ]
  },
  {
   "cell_type": "code",
   "execution_count": 12,
   "id": "1a15cfc9",
   "metadata": {},
   "outputs": [
    {
     "name": "stdout",
     "output_type": "stream",
     "text": [
      "mohan\n",
      "rohan\n",
      "sohan\n"
     ]
    }
   ],
   "source": [
    "#Passing list as an argument\n",
    "def lst(name):\n",
    "    for i in name:\n",
    "        print(i)\n",
    "\n",
    "lst ([\"mohan\", \"rohan\", \"sohan\"])"
   ]
  },
  {
   "cell_type": "code",
   "execution_count": 21,
   "id": "7dd7ecec",
   "metadata": {},
   "outputs": [
    {
     "name": "stdout",
     "output_type": "stream",
     "text": [
      "30.0\n"
     ]
    }
   ],
   "source": [
    "#avg function\n",
    "\n",
    "def avgg(name):\n",
    "    print(sum(name)/len(name))\n",
    "\n",
    "avgg([10, 20, 30, 40, 50])\n"
   ]
  },
  {
   "cell_type": "markdown",
   "id": "47b3116d",
   "metadata": {},
   "source": [
    "# Lamda function "
   ]
  },
  {
   "cell_type": "code",
   "execution_count": null,
   "id": "46630859",
   "metadata": {},
   "outputs": [],
   "source": [
    "#lamda function --- small anonymous function \n",
    "#lamda arguments: expression"
   ]
  },
  {
   "cell_type": "code",
   "execution_count": 4,
   "id": "bead3dde",
   "metadata": {},
   "outputs": [
    {
     "data": {
      "text/plain": [
       "15"
      ]
     },
     "execution_count": 4,
     "metadata": {},
     "output_type": "execute_result"
    }
   ],
   "source": [
    "x = lambda a,b : a + b\n",
    "x(5,10)"
   ]
  },
  {
   "cell_type": "code",
   "execution_count": 5,
   "id": "bcf316c6",
   "metadata": {},
   "outputs": [
    {
     "data": {
      "text/plain": [
       "50"
      ]
     },
     "execution_count": 5,
     "metadata": {},
     "output_type": "execute_result"
    }
   ],
   "source": [
    "x = lambda a,b : a * b\n",
    "x(5,10)"
   ]
  },
  {
   "cell_type": "code",
   "execution_count": 7,
   "id": "0f7935a1",
   "metadata": {},
   "outputs": [
    {
     "name": "stdout",
     "output_type": "stream",
     "text": [
      "[1, 4, 9, 16, 25]\n"
     ]
    }
   ],
   "source": [
    "#Map function ---apply a function to each item in an iterable\n",
    "#map(function, iterable)\n",
    "def square(n):\n",
    "    return n * n\n",
    "\n",
    "lst = [1, 2, 3, 4, 5]\n",
    "result = map(square, lst)\n",
    "print(list(result))  # Returns a map object"
   ]
  },
  {
   "cell_type": "code",
   "execution_count": 8,
   "id": "4e9aa7eb",
   "metadata": {},
   "outputs": [
    {
     "name": "stdout",
     "output_type": "stream",
     "text": [
      "[1, 4, 9, 16, 25]\n"
     ]
    }
   ],
   "source": [
    "lst = [1, 2, 3, 4, 5]\n",
    "result = map(lambda n :n * n, lst)\n",
    "# Returns a map object\n",
    "print(list(result)) "
   ]
  },
  {
   "cell_type": "code",
   "execution_count": 9,
   "id": "61f1ac34",
   "metadata": {},
   "outputs": [
    {
     "name": "stdout",
     "output_type": "stream",
     "text": [
      "[2, 4, 6, 8, 10]\n"
     ]
    }
   ],
   "source": [
    "#Filter function ---filter items in an iterable based on a condition\n",
    "#filter(function, iterable)\n",
    "lst = [1, 2, 3, 4, 5, 6, 7, 8, 9, 10]\n",
    "result = filter(lambda n: n % 2 == 0, lst)\n",
    "print(list(result))"
   ]
  },
  {
   "cell_type": "code",
   "execution_count": 11,
   "id": "440ba6be",
   "metadata": {},
   "outputs": [
    {
     "name": "stdout",
     "output_type": "stream",
     "text": [
      "15\n"
     ]
    }
   ],
   "source": [
    "#Reduce function ---apply a rolling computation to sequential pairs of values in an iterable\n",
    "from functools import reduce\n",
    "\n",
    "lst = [1, 2, 3, 4, 5]   \n",
    "result = reduce((lambda x, y: x + y), lst)\n",
    "print(result)"
   ]
  },
  {
   "cell_type": "code",
   "execution_count": null,
   "id": "88a8883b",
   "metadata": {},
   "outputs": [],
   "source": [
    "#from left to right\n",
    "#[1, 2, 3, 4, 5] --> [3, 3, 4, 5] --> [6, 4, 5] --> [10, 5] --> [15]"
   ]
  },
  {
   "cell_type": "code",
   "execution_count": 16,
   "id": "2f395794",
   "metadata": {},
   "outputs": [
    {
     "name": "stdout",
     "output_type": "stream",
     "text": [
      "[(0, 'mohan'), (1, 'rohan'), (2, 'sohan')]\n"
     ]
    }
   ],
   "source": [
    "#enumerate function ---add a counter to an iterable \n",
    "# and return it in the form of an enumerate object\n",
    "\n",
    "lst = [\"mohan\", \"rohan\", \"sohan\"]\n",
    "result = enumerate(lst)\n",
    "print(list(result))"
   ]
  },
  {
   "cell_type": "code",
   "execution_count": 15,
   "id": "fb418de2",
   "metadata": {},
   "outputs": [
    {
     "name": "stdout",
     "output_type": "stream",
     "text": [
      "[(5, 'mohan'), (6, 'rohan'), (7, 'sohan')]\n"
     ]
    }
   ],
   "source": [
    "\n",
    "lst = [\"mohan\", \"rohan\", \"sohan\"]\n",
    "result = enumerate(lst,start=5)\n",
    "print(list(result))"
   ]
  },
  {
   "cell_type": "code",
   "execution_count": 19,
   "id": "92ee1d72",
   "metadata": {},
   "outputs": [
    {
     "name": "stdout",
     "output_type": "stream",
     "text": [
      "[('mohan', 1), ('rohan', 2), ('sohan', 3)]\n"
     ]
    }
   ],
   "source": [
    "#Zip function ---combine two or more iterables into a single iterable\n",
    "lst1 = [\"mohan\", \"rohan\", \"sohan\"]\n",
    "lst2 = [1, 2, 3]\n",
    "result = zip(lst1, lst2)\n",
    "print(list(result))"
   ]
  },
  {
   "cell_type": "code",
   "execution_count": 20,
   "id": "d4c76a16",
   "metadata": {},
   "outputs": [
    {
     "name": "stdout",
     "output_type": "stream",
     "text": [
      "[('mohan', 1), ('rohan', 2)]\n"
     ]
    }
   ],
   "source": [
    "lst1 = [\"mohan\", \"rohan\", \"sohan\"]\n",
    "lst2 = [1, 2]\n",
    "result = zip(lst1, lst2)\n",
    "print(list(result))"
   ]
  },
  {
   "cell_type": "code",
   "execution_count": 23,
   "id": "340ac904",
   "metadata": {},
   "outputs": [
    {
     "name": "stdout",
     "output_type": "stream",
     "text": [
      "['mohan', 'rohan', 'sohan']\n",
      "[1, 2, 3]\n"
     ]
    }
   ],
   "source": [
    "zipped = [(\"mohan\", 1), (\"rohan\", 2), (\"sohan\", 3)]\n",
    "result , number = zip(*zipped)\n",
    "\n",
    "print(list(result))  # ('mohan', 'rohan', 'sohan')\n",
    "print(list(number))  # (1, 2, 3)\n"
   ]
  },
  {
   "cell_type": "code",
   "execution_count": null,
   "id": "f8c39a7b",
   "metadata": {},
   "outputs": [],
   "source": [
    "#module function --- importing other python files into the current file\n",
    "#module is single python file (.py)\n",
    "\n",
    "#there are 3 types of modules\n",
    "#1. Built - in modules - os ,datetime, math, random, sys, re\n",
    "#2. Third-party modules - pandas, numpy, requests, beautifulsoup, selenium\n",
    "#3. User-defined modules"
   ]
  },
  {
   "cell_type": "code",
   "execution_count": null,
   "id": "2824c803",
   "metadata": {},
   "outputs": [],
   "source": [
    "# import os\n",
    "#from os import path "
   ]
  },
  {
   "cell_type": "code",
   "execution_count": 25,
   "id": "d671e371",
   "metadata": {},
   "outputs": [
    {
     "name": "stdout",
     "output_type": "stream",
     "text": [
      "30\n"
     ]
    }
   ],
   "source": [
    "from basic import add\n",
    "print(add(10, 20))"
   ]
  },
  {
   "cell_type": "code",
   "execution_count": null,
   "id": "445f7266",
   "metadata": {},
   "outputs": [],
   "source": []
  }
 ],
 "metadata": {
  "kernelspec": {
   "display_name": "Python 3",
   "language": "python",
   "name": "python3"
  },
  "language_info": {
   "codemirror_mode": {
    "name": "ipython",
    "version": 3
   },
   "file_extension": ".py",
   "mimetype": "text/x-python",
   "name": "python",
   "nbconvert_exporter": "python",
   "pygments_lexer": "ipython3",
   "version": "3.12.5"
  }
 },
 "nbformat": 4,
 "nbformat_minor": 5
}
