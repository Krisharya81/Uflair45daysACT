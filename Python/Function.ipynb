{
 "cells": [
  {
   "cell_type": "code",
   "execution_count": null,
   "id": "91f458c6",
   "metadata": {},
   "outputs": [],
   "source": [
    "#Defination of function\n",
    "#Funtion is a block of code that only runs when it is called"
   ]
  },
  {
   "cell_type": "code",
   "execution_count": null,
   "id": "dd281fba",
   "metadata": {},
   "outputs": [
    {
     "name": "stdout",
     "output_type": "stream",
     "text": [
      "Hello, World!\n"
     ]
    }
   ],
   "source": [
    "#User defined function\n",
    "def hello():\n",
    "    #Block of code\n",
    "    print(\"Hello, World!\")\n",
    "#Calling the function    \n",
    "hello()"
   ]
  },
  {
   "cell_type": "code",
   "execution_count": 2,
   "id": "4afacb8f",
   "metadata": {},
   "outputs": [
    {
     "name": "stdout",
     "output_type": "stream",
     "text": [
      "30\n"
     ]
    }
   ],
   "source": [
    "def add():\n",
    "    a = 10\n",
    "    b = 20\n",
    "    c = a + b   \n",
    "    print(c)\n",
    "#Calling the function\n",
    "add() "
   ]
  },
  {
   "cell_type": "code",
   "execution_count": 3,
   "id": "4fdddb43",
   "metadata": {},
   "outputs": [
    {
     "name": "stdout",
     "output_type": "stream",
     "text": [
      "30\n"
     ]
    }
   ],
   "source": [
    "#Parameter and Argument\n",
    "def add(a, b):\n",
    "    print(a + b)\n",
    "#Calling the function with arguments\n",
    "add(10, 20)\n",
    "\n"
   ]
  },
  {
   "cell_type": "code",
   "execution_count": null,
   "id": "cd26766c",
   "metadata": {},
   "outputs": [
    {
     "name": "stdout",
     "output_type": "stream",
     "text": [
      "The youngest child is rohan\n"
     ]
    }
   ],
   "source": [
    "#arbitrary arguments ---*args---\n",
    "def child(*kids):\n",
    "    print(\"The youngest child is \" + kids[1])\n",
    "child(\"mohan\",\"rohan\",\"sohan\")    "
   ]
  },
  {
   "cell_type": "code",
   "execution_count": 6,
   "id": "608a90d3",
   "metadata": {},
   "outputs": [
    {
     "name": "stdout",
     "output_type": "stream",
     "text": [
      "The youngest child is rohan\n"
     ]
    }
   ],
   "source": [
    "#Keyword arguments\n",
    "def child(child1, child2, child3):\n",
    "    print(\"The youngest child is \" + child2)    \n",
    "\n",
    "child(child1 = \"mohan\", child2 = \"rohan\", child3 = \"sohan\")"
   ]
  },
  {
   "cell_type": "code",
   "execution_count": 7,
   "id": "9584b560",
   "metadata": {},
   "outputs": [
    {
     "name": "stdout",
     "output_type": "stream",
     "text": [
      "The youngest child is sohan\n"
     ]
    }
   ],
   "source": [
    "#arbitrary keyword arguments ---**kwargs---\n",
    "\n",
    "def child(**kids):\n",
    "    print(\"The youngest child is \" + kids[\"child2\"])\n",
    "\n",
    "child(child3=\"mohan\",child1=\"rohan\",child2=\"sohan\")"
   ]
  },
  {
   "cell_type": "code",
   "execution_count": 10,
   "id": "ed15b8bb",
   "metadata": {},
   "outputs": [
    {
     "name": "stdout",
     "output_type": "stream",
     "text": [
      "My hobby is cricket\n",
      "My hobby is cricket\n"
     ]
    }
   ],
   "source": [
    "#Default parameter value\n",
    "def hobby(hobby =\"cricket\"):\n",
    "    print(\"My hobby is \" + hobby)\n",
    "hobby(\"cricket\")    \n",
    "hobby()"
   ]
  },
  {
   "cell_type": "code",
   "execution_count": 12,
   "id": "1a15cfc9",
   "metadata": {},
   "outputs": [
    {
     "name": "stdout",
     "output_type": "stream",
     "text": [
      "mohan\n",
      "rohan\n",
      "sohan\n"
     ]
    }
   ],
   "source": [
    "#Passing list as an argument\n",
    "def lst(name):\n",
    "    for i in name:\n",
    "        print(i)\n",
    "\n",
    "lst ([\"mohan\", \"rohan\", \"sohan\"])"
   ]
  },
  {
   "cell_type": "code",
   "execution_count": 21,
   "id": "7dd7ecec",
   "metadata": {},
   "outputs": [
    {
     "name": "stdout",
     "output_type": "stream",
     "text": [
      "30.0\n"
     ]
    }
   ],
   "source": [
    "#avg function\n",
    "\n",
    "def avgg(name):\n",
    "    print(sum(name)/len(name))\n",
    "\n",
    "avgg([10, 20, 30, 40, 50])\n"
   ]
  },
  {
   "cell_type": "code",
   "execution_count": null,
   "id": "405a331d",
   "metadata": {},
   "outputs": [],
   "source": []
  }
 ],
 "metadata": {
  "kernelspec": {
   "display_name": "Python 3",
   "language": "python",
   "name": "python3"
  },
  "language_info": {
   "codemirror_mode": {
    "name": "ipython",
    "version": 3
   },
   "file_extension": ".py",
   "mimetype": "text/x-python",
   "name": "python",
   "nbconvert_exporter": "python",
   "pygments_lexer": "ipython3",
   "version": "3.12.5"
  }
 },
 "nbformat": 4,
 "nbformat_minor": 5
}
